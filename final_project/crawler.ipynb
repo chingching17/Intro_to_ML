{
 "cells": [
  {
   "cell_type": "markdown",
   "metadata": {},
   "source": [
    "# 0816050 施雅青"
   ]
  },
  {
   "cell_type": "code",
   "execution_count": 12,
   "metadata": {},
   "outputs": [],
   "source": [
    "from bs4 import BeautifulSoup\n",
    "import requests\n",
    "import sqlite3\n",
    "import csv\n",
    "from datetime import datetime\n",
    "\n",
    "def crawler(path, append, label):\n",
    "    results = []\n",
    "    for i in range(30):\n",
    "        path_new = path+str(i+2)\n",
    "        print(path_new)\n",
    "        response = requests.get(path_new)\n",
    "\n",
    "        soup = BeautifulSoup(response.content, \"lxml\")\n",
    "\n",
    "        cards = soup.find_all(\"div\", {\"class\": \"post_list_item\"})\n",
    "\n",
    "        for card in cards:\n",
    "            title = card.find(\"h3\", {\"class\": \"post_title\"})\n",
    "            published = card.find(\"li\", {\"class\": \"post_date\"})\n",
    "            results.append((title.getText().strip(),) + (published.getText().strip(),))\n",
    "    if not append:\n",
    "        with open('data.csv', 'w',encoding='utf-8',newline='') as csv_file:\n",
    "            writer = csv.writer(csv_file)\n",
    "            for title, publish in results:\n",
    "                writer.writerow([title, label])\n",
    "    elif append:\n",
    "        with open(r'data.csv', 'a',encoding='utf-8',newline='') as csv_file:\n",
    "            writer = csv.writer(csv_file)\n",
    "        #     writer.writerow([name, price, datetime.now()])\n",
    "            for title, publish in results:\n",
    "                writer.writerow([title, label])"
   ]
  },
  {
   "cell_type": "code",
   "execution_count": 13,
   "metadata": {},
   "outputs": [
    {
     "name": "stdout",
     "output_type": "stream",
     "text": [
      "https://www.inside.com.tw/tag/AI?page=2\n",
      "https://www.inside.com.tw/tag/AI?page=3\n",
      "https://www.inside.com.tw/tag/AI?page=4\n",
      "https://www.inside.com.tw/tag/AI?page=5\n",
      "https://www.inside.com.tw/tag/AI?page=6\n",
      "https://www.inside.com.tw/tag/AI?page=7\n",
      "https://www.inside.com.tw/tag/AI?page=8\n",
      "https://www.inside.com.tw/tag/AI?page=9\n",
      "https://www.inside.com.tw/tag/AI?page=10\n",
      "https://www.inside.com.tw/tag/AI?page=11\n",
      "https://www.inside.com.tw/tag/AI?page=12\n",
      "https://www.inside.com.tw/tag/AI?page=13\n",
      "https://www.inside.com.tw/tag/AI?page=14\n",
      "https://www.inside.com.tw/tag/AI?page=15\n",
      "https://www.inside.com.tw/tag/AI?page=16\n",
      "https://www.inside.com.tw/tag/AI?page=17\n",
      "https://www.inside.com.tw/tag/AI?page=18\n",
      "https://www.inside.com.tw/tag/AI?page=19\n",
      "https://www.inside.com.tw/tag/AI?page=20\n",
      "https://www.inside.com.tw/tag/AI?page=21\n",
      "https://www.inside.com.tw/tag/AI?page=22\n",
      "https://www.inside.com.tw/tag/AI?page=23\n",
      "https://www.inside.com.tw/tag/AI?page=24\n",
      "https://www.inside.com.tw/tag/AI?page=25\n",
      "https://www.inside.com.tw/tag/AI?page=26\n",
      "https://www.inside.com.tw/tag/AI?page=27\n",
      "https://www.inside.com.tw/tag/AI?page=28\n",
      "https://www.inside.com.tw/tag/AI?page=29\n",
      "https://www.inside.com.tw/tag/AI?page=30\n",
      "https://www.inside.com.tw/tag/AI?page=31\n"
     ]
    }
   ],
   "source": [
    "crawler(\"https://www.inside.com.tw/tag/AI?page=\",0,'AI')"
   ]
  },
  {
   "cell_type": "code",
   "execution_count": 14,
   "metadata": {},
   "outputs": [
    {
     "name": "stdout",
     "output_type": "stream",
     "text": [
      "https://www.inside.com.tw/tag/職場?page=2\n",
      "https://www.inside.com.tw/tag/職場?page=3\n",
      "https://www.inside.com.tw/tag/職場?page=4\n",
      "https://www.inside.com.tw/tag/職場?page=5\n",
      "https://www.inside.com.tw/tag/職場?page=6\n",
      "https://www.inside.com.tw/tag/職場?page=7\n",
      "https://www.inside.com.tw/tag/職場?page=8\n",
      "https://www.inside.com.tw/tag/職場?page=9\n",
      "https://www.inside.com.tw/tag/職場?page=10\n",
      "https://www.inside.com.tw/tag/職場?page=11\n",
      "https://www.inside.com.tw/tag/職場?page=12\n",
      "https://www.inside.com.tw/tag/職場?page=13\n",
      "https://www.inside.com.tw/tag/職場?page=14\n",
      "https://www.inside.com.tw/tag/職場?page=15\n",
      "https://www.inside.com.tw/tag/職場?page=16\n",
      "https://www.inside.com.tw/tag/職場?page=17\n",
      "https://www.inside.com.tw/tag/職場?page=18\n",
      "https://www.inside.com.tw/tag/職場?page=19\n",
      "https://www.inside.com.tw/tag/職場?page=20\n",
      "https://www.inside.com.tw/tag/職場?page=21\n",
      "https://www.inside.com.tw/tag/職場?page=22\n",
      "https://www.inside.com.tw/tag/職場?page=23\n",
      "https://www.inside.com.tw/tag/職場?page=24\n",
      "https://www.inside.com.tw/tag/職場?page=25\n",
      "https://www.inside.com.tw/tag/職場?page=26\n",
      "https://www.inside.com.tw/tag/職場?page=27\n",
      "https://www.inside.com.tw/tag/職場?page=28\n",
      "https://www.inside.com.tw/tag/職場?page=29\n",
      "https://www.inside.com.tw/tag/職場?page=30\n",
      "https://www.inside.com.tw/tag/職場?page=31\n"
     ]
    }
   ],
   "source": [
    "crawler(\"https://www.inside.com.tw/tag/職場?page=\",1,'workplace')"
   ]
  },
  {
   "cell_type": "code",
   "execution_count": 15,
   "metadata": {},
   "outputs": [
    {
     "name": "stdout",
     "output_type": "stream",
     "text": [
      "https://www.inside.com.tw/tag/管理?page=2\n",
      "https://www.inside.com.tw/tag/管理?page=3\n",
      "https://www.inside.com.tw/tag/管理?page=4\n",
      "https://www.inside.com.tw/tag/管理?page=5\n",
      "https://www.inside.com.tw/tag/管理?page=6\n",
      "https://www.inside.com.tw/tag/管理?page=7\n",
      "https://www.inside.com.tw/tag/管理?page=8\n",
      "https://www.inside.com.tw/tag/管理?page=9\n",
      "https://www.inside.com.tw/tag/管理?page=10\n",
      "https://www.inside.com.tw/tag/管理?page=11\n",
      "https://www.inside.com.tw/tag/管理?page=12\n",
      "https://www.inside.com.tw/tag/管理?page=13\n",
      "https://www.inside.com.tw/tag/管理?page=14\n",
      "https://www.inside.com.tw/tag/管理?page=15\n",
      "https://www.inside.com.tw/tag/管理?page=16\n",
      "https://www.inside.com.tw/tag/管理?page=17\n",
      "https://www.inside.com.tw/tag/管理?page=18\n",
      "https://www.inside.com.tw/tag/管理?page=19\n",
      "https://www.inside.com.tw/tag/管理?page=20\n",
      "https://www.inside.com.tw/tag/管理?page=21\n",
      "https://www.inside.com.tw/tag/管理?page=22\n",
      "https://www.inside.com.tw/tag/管理?page=23\n",
      "https://www.inside.com.tw/tag/管理?page=24\n",
      "https://www.inside.com.tw/tag/管理?page=25\n",
      "https://www.inside.com.tw/tag/管理?page=26\n",
      "https://www.inside.com.tw/tag/管理?page=27\n",
      "https://www.inside.com.tw/tag/管理?page=28\n",
      "https://www.inside.com.tw/tag/管理?page=29\n",
      "https://www.inside.com.tw/tag/管理?page=30\n",
      "https://www.inside.com.tw/tag/管理?page=31\n"
     ]
    }
   ],
   "source": [
    "crawler(\"https://www.inside.com.tw/tag/管理?page=\",1,'management')"
   ]
  },
  {
   "cell_type": "code",
   "execution_count": 16,
   "metadata": {},
   "outputs": [
    {
     "name": "stdout",
     "output_type": "stream",
     "text": [
      "https://www.inside.com.tw/tag/創業?page=2\n",
      "https://www.inside.com.tw/tag/創業?page=3\n",
      "https://www.inside.com.tw/tag/創業?page=4\n",
      "https://www.inside.com.tw/tag/創業?page=5\n",
      "https://www.inside.com.tw/tag/創業?page=6\n",
      "https://www.inside.com.tw/tag/創業?page=7\n",
      "https://www.inside.com.tw/tag/創業?page=8\n",
      "https://www.inside.com.tw/tag/創業?page=9\n",
      "https://www.inside.com.tw/tag/創業?page=10\n",
      "https://www.inside.com.tw/tag/創業?page=11\n",
      "https://www.inside.com.tw/tag/創業?page=12\n",
      "https://www.inside.com.tw/tag/創業?page=13\n",
      "https://www.inside.com.tw/tag/創業?page=14\n",
      "https://www.inside.com.tw/tag/創業?page=15\n",
      "https://www.inside.com.tw/tag/創業?page=16\n",
      "https://www.inside.com.tw/tag/創業?page=17\n",
      "https://www.inside.com.tw/tag/創業?page=18\n",
      "https://www.inside.com.tw/tag/創業?page=19\n",
      "https://www.inside.com.tw/tag/創業?page=20\n",
      "https://www.inside.com.tw/tag/創業?page=21\n",
      "https://www.inside.com.tw/tag/創業?page=22\n",
      "https://www.inside.com.tw/tag/創業?page=23\n",
      "https://www.inside.com.tw/tag/創業?page=24\n",
      "https://www.inside.com.tw/tag/創業?page=25\n",
      "https://www.inside.com.tw/tag/創業?page=26\n",
      "https://www.inside.com.tw/tag/創業?page=27\n",
      "https://www.inside.com.tw/tag/創業?page=28\n",
      "https://www.inside.com.tw/tag/創業?page=29\n",
      "https://www.inside.com.tw/tag/創業?page=30\n",
      "https://www.inside.com.tw/tag/創業?page=31\n"
     ]
    }
   ],
   "source": [
    "crawler(\"https://www.inside.com.tw/tag/創業?page=\",1,'startup')    "
   ]
  },
  {
   "cell_type": "code",
   "execution_count": 17,
   "metadata": {},
   "outputs": [
    {
     "name": "stdout",
     "output_type": "stream",
     "text": [
      "https://www.inside.com.tw/tag/遊戲?page=2\n",
      "https://www.inside.com.tw/tag/遊戲?page=3\n",
      "https://www.inside.com.tw/tag/遊戲?page=4\n",
      "https://www.inside.com.tw/tag/遊戲?page=5\n",
      "https://www.inside.com.tw/tag/遊戲?page=6\n",
      "https://www.inside.com.tw/tag/遊戲?page=7\n",
      "https://www.inside.com.tw/tag/遊戲?page=8\n",
      "https://www.inside.com.tw/tag/遊戲?page=9\n",
      "https://www.inside.com.tw/tag/遊戲?page=10\n",
      "https://www.inside.com.tw/tag/遊戲?page=11\n",
      "https://www.inside.com.tw/tag/遊戲?page=12\n",
      "https://www.inside.com.tw/tag/遊戲?page=13\n",
      "https://www.inside.com.tw/tag/遊戲?page=14\n",
      "https://www.inside.com.tw/tag/遊戲?page=15\n",
      "https://www.inside.com.tw/tag/遊戲?page=16\n",
      "https://www.inside.com.tw/tag/遊戲?page=17\n",
      "https://www.inside.com.tw/tag/遊戲?page=18\n",
      "https://www.inside.com.tw/tag/遊戲?page=19\n",
      "https://www.inside.com.tw/tag/遊戲?page=20\n",
      "https://www.inside.com.tw/tag/遊戲?page=21\n",
      "https://www.inside.com.tw/tag/遊戲?page=22\n",
      "https://www.inside.com.tw/tag/遊戲?page=23\n",
      "https://www.inside.com.tw/tag/遊戲?page=24\n",
      "https://www.inside.com.tw/tag/遊戲?page=25\n",
      "https://www.inside.com.tw/tag/遊戲?page=26\n",
      "https://www.inside.com.tw/tag/遊戲?page=27\n",
      "https://www.inside.com.tw/tag/遊戲?page=28\n",
      "https://www.inside.com.tw/tag/遊戲?page=29\n",
      "https://www.inside.com.tw/tag/遊戲?page=30\n",
      "https://www.inside.com.tw/tag/遊戲?page=31\n"
     ]
    }
   ],
   "source": [
    "crawler(\"https://www.inside.com.tw/tag/遊戲?page=\",1,'game')    "
   ]
  },
  {
   "cell_type": "code",
   "execution_count": 18,
   "metadata": {},
   "outputs": [
    {
     "name": "stdout",
     "output_type": "stream",
     "text": [
      "https://www.inside.com.tw/tag/行銷?page=2\n",
      "https://www.inside.com.tw/tag/行銷?page=3\n",
      "https://www.inside.com.tw/tag/行銷?page=4\n",
      "https://www.inside.com.tw/tag/行銷?page=5\n",
      "https://www.inside.com.tw/tag/行銷?page=6\n",
      "https://www.inside.com.tw/tag/行銷?page=7\n",
      "https://www.inside.com.tw/tag/行銷?page=8\n",
      "https://www.inside.com.tw/tag/行銷?page=9\n",
      "https://www.inside.com.tw/tag/行銷?page=10\n",
      "https://www.inside.com.tw/tag/行銷?page=11\n",
      "https://www.inside.com.tw/tag/行銷?page=12\n",
      "https://www.inside.com.tw/tag/行銷?page=13\n",
      "https://www.inside.com.tw/tag/行銷?page=14\n",
      "https://www.inside.com.tw/tag/行銷?page=15\n",
      "https://www.inside.com.tw/tag/行銷?page=16\n",
      "https://www.inside.com.tw/tag/行銷?page=17\n",
      "https://www.inside.com.tw/tag/行銷?page=18\n",
      "https://www.inside.com.tw/tag/行銷?page=19\n",
      "https://www.inside.com.tw/tag/行銷?page=20\n",
      "https://www.inside.com.tw/tag/行銷?page=21\n",
      "https://www.inside.com.tw/tag/行銷?page=22\n",
      "https://www.inside.com.tw/tag/行銷?page=23\n",
      "https://www.inside.com.tw/tag/行銷?page=24\n",
      "https://www.inside.com.tw/tag/行銷?page=25\n",
      "https://www.inside.com.tw/tag/行銷?page=26\n",
      "https://www.inside.com.tw/tag/行銷?page=27\n",
      "https://www.inside.com.tw/tag/行銷?page=28\n",
      "https://www.inside.com.tw/tag/行銷?page=29\n",
      "https://www.inside.com.tw/tag/行銷?page=30\n",
      "https://www.inside.com.tw/tag/行銷?page=31\n"
     ]
    }
   ],
   "source": [
    "crawler(\"https://www.inside.com.tw/tag/行銷?page=\",1,'marketing')    "
   ]
  }
 ],
 "metadata": {
  "kernelspec": {
   "display_name": "Python 3",
   "language": "python",
   "name": "python3"
  },
  "language_info": {
   "codemirror_mode": {
    "name": "ipython",
    "version": 3
   },
   "file_extension": ".py",
   "mimetype": "text/x-python",
   "name": "python",
   "nbconvert_exporter": "python",
   "pygments_lexer": "ipython3",
   "version": "3.7.4"
  }
 },
 "nbformat": 4,
 "nbformat_minor": 2
}
