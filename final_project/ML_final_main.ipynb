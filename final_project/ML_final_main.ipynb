{
 "cells": [
  {
   "cell_type": "markdown",
   "metadata": {},
   "source": [
    "# 0816050 施雅青"
   ]
  },
  {
   "cell_type": "code",
   "execution_count": 2,
   "metadata": {},
   "outputs": [],
   "source": [
    "import pandas as pd\n",
    "import jieba.posseg as pseg\n",
    "attribute_m = ['title','label']\n",
    "df = pd.read_csv('data.csv',names=attribute_m)"
   ]
  },
  {
   "cell_type": "code",
   "execution_count": 3,
   "metadata": {},
   "outputs": [
    {
     "data": {
      "text/html": [
       "<div>\n",
       "<style scoped>\n",
       "    .dataframe tbody tr th:only-of-type {\n",
       "        vertical-align: middle;\n",
       "    }\n",
       "\n",
       "    .dataframe tbody tr th {\n",
       "        vertical-align: top;\n",
       "    }\n",
       "\n",
       "    .dataframe thead th {\n",
       "        text-align: right;\n",
       "    }\n",
       "</style>\n",
       "<table border=\"1\" class=\"dataframe\">\n",
       "  <thead>\n",
       "    <tr style=\"text-align: right;\">\n",
       "      <th></th>\n",
       "      <th>title</th>\n",
       "      <th>label</th>\n",
       "    </tr>\n",
       "  </thead>\n",
       "  <tbody>\n",
       "    <tr>\n",
       "      <th>0</th>\n",
       "      <td>除了量子電腦，Google 一口氣推洪水預警、語言障礙 App 與乳癌檢測 AI</td>\n",
       "      <td>AI</td>\n",
       "    </tr>\n",
       "    <tr>\n",
       "      <th>1</th>\n",
       "      <td>TTD Q3 財報亮眼，受惠業務量擴大，營收年增率達 39%</td>\n",
       "      <td>AI</td>\n",
       "    </tr>\n",
       "    <tr>\n",
       "      <th>2</th>\n",
       "      <td>Google 新雄心：用 DeepMind AI 成立新公司，為人類打造新藥謀福祉！</td>\n",
       "      <td>AI</td>\n",
       "    </tr>\n",
       "    <tr>\n",
       "      <th>3</th>\n",
       "      <td>「愚蠢！」首位被超級電腦打敗的前世界棋王對 Meta 移除人臉辨識措施表達不滿</td>\n",
       "      <td>AI</td>\n",
       "    </tr>\n",
       "    <tr>\n",
       "      <th>4</th>\n",
       "      <td>【Howie 商業投資】兵臨城下，誰是東南亞 AI 新創最大的投資者？</td>\n",
       "      <td>AI</td>\n",
       "    </tr>\n",
       "    <tr>\n",
       "      <th>...</th>\n",
       "      <td>...</td>\n",
       "      <td>...</td>\n",
       "    </tr>\n",
       "    <tr>\n",
       "      <th>2887</th>\n",
       "      <td>自以為「有創意」就夠了嗎？勸退想要進入行銷產業的新鮮人</td>\n",
       "      <td>marketing</td>\n",
       "    </tr>\n",
       "    <tr>\n",
       "      <th>2888</th>\n",
       "      <td>IT、R&amp;D、MKT、PR是什麼意思？一次學會公司各部門英文簡稱</td>\n",
       "      <td>marketing</td>\n",
       "    </tr>\n",
       "    <tr>\n",
       "      <th>2889</th>\n",
       "      <td>飲料抽獎的魔力：下次不要再被「第二件0元」的活動給誘拐啦！</td>\n",
       "      <td>marketing</td>\n",
       "    </tr>\n",
       "    <tr>\n",
       "      <th>2890</th>\n",
       "      <td>《店家必學！活用「Google我的商家」》：利用「Google街景」與其他商家拉開差距</td>\n",
       "      <td>marketing</td>\n",
       "    </tr>\n",
       "    <tr>\n",
       "      <th>2891</th>\n",
       "      <td>行銷人不想被「文化障礙」擋住，在德國可以找哪類職缺？</td>\n",
       "      <td>marketing</td>\n",
       "    </tr>\n",
       "  </tbody>\n",
       "</table>\n",
       "<p>2892 rows × 2 columns</p>\n",
       "</div>"
      ],
      "text/plain": [
       "                                            title      label\n",
       "0        除了量子電腦，Google 一口氣推洪水預警、語言障礙 App 與乳癌檢測 AI         AI\n",
       "1                  TTD Q3 財報亮眼，受惠業務量擴大，營收年增率達 39%         AI\n",
       "2      Google 新雄心：用 DeepMind AI 成立新公司，為人類打造新藥謀福祉！         AI\n",
       "3         「愚蠢！」首位被超級電腦打敗的前世界棋王對 Meta 移除人臉辨識措施表達不滿         AI\n",
       "4             【Howie 商業投資】兵臨城下，誰是東南亞 AI 新創最大的投資者？         AI\n",
       "...                                           ...        ...\n",
       "2887                  自以為「有創意」就夠了嗎？勸退想要進入行銷產業的新鮮人  marketing\n",
       "2888             IT、R&D、MKT、PR是什麼意思？一次學會公司各部門英文簡稱  marketing\n",
       "2889                飲料抽獎的魔力：下次不要再被「第二件0元」的活動給誘拐啦！  marketing\n",
       "2890  《店家必學！活用「Google我的商家」》：利用「Google街景」與其他商家拉開差距  marketing\n",
       "2891                   行銷人不想被「文化障礙」擋住，在德國可以找哪類職缺？  marketing\n",
       "\n",
       "[2892 rows x 2 columns]"
      ]
     },
     "execution_count": 3,
     "metadata": {},
     "output_type": "execute_result"
    }
   ],
   "source": [
    "df"
   ]
  },
  {
   "cell_type": "markdown",
   "metadata": {},
   "source": [
    "## Statistical Computing and Data Visualization"
   ]
  },
  {
   "cell_type": "code",
   "execution_count": 23,
   "metadata": {},
   "outputs": [
    {
     "data": {
      "text/plain": [
       "<matplotlib.axes._subplots.AxesSubplot at 0x2378669a648>"
      ]
     },
     "execution_count": 23,
     "metadata": {},
     "output_type": "execute_result"
    },
    {
     "data": {
      "image/png": "[encoded data removed]",
      "text/plain": [
       "<Figure size 432x288 with 1 Axes>"
      ]
     },
     "metadata": {
      "needs_background": "light"
     },
     "output_type": "display_data"
    }
   ],
   "source": [
    "# import \n",
    "groups = df.groupby('label')\n",
    "groups.size().plot(kind='bar')"
   ]
  },
  {
   "cell_type": "markdown",
   "metadata": {},
   "source": [
    "## Data Preprocessing"
   ]
  },
  {
   "cell_type": "code",
   "execution_count": 5,
   "metadata": {},
   "outputs": [],
   "source": [
    "def jieba_tokenizer(text):\n",
    "    words = pseg.cut(text)\n",
    "    return ' '.join([ \n",
    "        word for word, flag in words if flag != 'x'])"
   ]
  },
  {
   "cell_type": "code",
   "execution_count": 6,
   "metadata": {},
   "outputs": [
    {
     "name": "stderr",
     "output_type": "stream",
     "text": [
      "Building prefix dict from the default dictionary ...\n",
      "Loading model from cache C:\\Users\\acer\\AppData\\Local\\Temp\\jieba.cache\n",
      "Loading model cost 2.035 seconds.\n",
      "Prefix dict has been built successfully.\n"
     ]
    }
   ],
   "source": [
    "df['Title Tokenized'] = df['title'].apply(jieba_tokenizer)"
   ]
  },
  {
   "cell_type": "code",
   "execution_count": 7,
   "metadata": {},
   "outputs": [],
   "source": [
    "df=df.sample(frac=1).reset_index(drop=True)"
   ]
  },
  {
   "cell_type": "code",
   "execution_count": 8,
   "metadata": {},
   "outputs": [
    {
     "data": {
      "text/html": [
       "<div>\n",
       "<style scoped>\n",
       "    .dataframe tbody tr th:only-of-type {\n",
       "        vertical-align: middle;\n",
       "    }\n",
       "\n",
       "    .dataframe tbody tr th {\n",
       "        vertical-align: top;\n",
       "    }\n",
       "\n",
       "    .dataframe thead th {\n",
       "        text-align: right;\n",
       "    }\n",
       "</style>\n",
       "<table border=\"1\" class=\"dataframe\">\n",
       "  <thead>\n",
       "    <tr style=\"text-align: right;\">\n",
       "      <th></th>\n",
       "      <th>title</th>\n",
       "      <th>label</th>\n",
       "      <th>Title Tokenized</th>\n",
       "    </tr>\n",
       "  </thead>\n",
       "  <tbody>\n",
       "    <tr>\n",
       "      <th>0</th>\n",
       "      <td>磁鐵改叫「我沒吸引力了」、坐臥兩用床改叫「我爸媽會打呼」⋯⋯Ikea 妙玩 SEO ！</td>\n",
       "      <td>marketing</td>\n",
       "      <td>磁鐵 改叫 我 沒 吸引力 了 坐臥 兩 用床 改叫 我 爸媽 會 打呼 Ikea 妙 玩 SEO</td>\n",
       "    </tr>\n",
       "    <tr>\n",
       "      <th>1</th>\n",
       "      <td>【硬塞書摘】就業的終結－你知道就業機會正在減少嗎？</td>\n",
       "      <td>workplace</td>\n",
       "      <td>硬 塞 書 摘 就業 的 終結 你 知道 就業 機會 正在 減少 嗎</td>\n",
       "    </tr>\n",
       "    <tr>\n",
       "      <th>2</th>\n",
       "      <td>疫情下的募資，新創最該留意的事情</td>\n",
       "      <td>startup</td>\n",
       "      <td>疫情 下 的 募資 新創 最 該 留意 的 事情</td>\n",
       "    </tr>\n",
       "    <tr>\n",
       "      <th>3</th>\n",
       "      <td>【Martech Asia】行銷科技之父 Scott Brinker：去程式化的行銷應用 這...</td>\n",
       "      <td>AI</td>\n",
       "      <td>Martech Asia 行銷 科技 之 父 Scott Brinker 去 程式化 的 行...</td>\n",
       "    </tr>\n",
       "    <tr>\n",
       "      <th>4</th>\n",
       "      <td>傳微軟有意以 100 億美元收購 Discord 高價出手背後誘因為何？</td>\n",
       "      <td>game</td>\n",
       "      <td>傳 微軟 有意 以 100 億 美元 收購 Discord 高價 出手 背 後 誘 因為 何</td>\n",
       "    </tr>\n",
       "    <tr>\n",
       "      <th>...</th>\n",
       "      <td>...</td>\n",
       "      <td>...</td>\n",
       "      <td>...</td>\n",
       "    </tr>\n",
       "    <tr>\n",
       "      <th>2887</th>\n",
       "      <td>Google 內部戰男女！大刀維護多元方針，執行長開除了發表性別偏見千言書的員工</td>\n",
       "      <td>management</td>\n",
       "      <td>Google 內部 戰 男女 大刀 維護 多元 方針 執行 長開 除了 發表 性別 偏 見 ...</td>\n",
       "    </tr>\n",
       "    <tr>\n",
       "      <th>2888</th>\n",
       "      <td>中共電動禁令就像是「虎門銷煙」——真正的問題，從來都不是鴉片</td>\n",
       "      <td>game</td>\n",
       "      <td>中共 電動 禁令 就 像是 虎門 銷煙 真正 的 問題 從來 都 不是 鴉片</td>\n",
       "    </tr>\n",
       "    <tr>\n",
       "      <th>2889</th>\n",
       "      <td>YouTube與Instagram推出「短影片」功能，有機會挑戰TikTok的地位嗎？</td>\n",
       "      <td>marketing</td>\n",
       "      <td>YouTube 與 Instagram 推出 短 影片 功能 有 機會 挑戰 TikTok ...</td>\n",
       "    </tr>\n",
       "    <tr>\n",
       "      <th>2890</th>\n",
       "      <td>用 4 個直白問題，摸清一位 CEO</td>\n",
       "      <td>startup</td>\n",
       "      <td>用 個 直白 問題 摸清 一位 CEO</td>\n",
       "    </tr>\n",
       "    <tr>\n",
       "      <th>2891</th>\n",
       "      <td>三大技巧打造更棒的 SurveyCake 問卷 獲得更精準的問卷回覆，打造更好的填答體驗</td>\n",
       "      <td>workplace</td>\n",
       "      <td>三大 技巧 打造 更 棒 的 SurveyCake 問卷 獲 得 更 精準 的 問卷 回覆 ...</td>\n",
       "    </tr>\n",
       "  </tbody>\n",
       "</table>\n",
       "<p>2892 rows × 3 columns</p>\n",
       "</div>"
      ],
      "text/plain": [
       "                                                  title       label  \\\n",
       "0           磁鐵改叫「我沒吸引力了」、坐臥兩用床改叫「我爸媽會打呼」⋯⋯Ikea 妙玩 SEO ！   marketing   \n",
       "1                             【硬塞書摘】就業的終結－你知道就業機會正在減少嗎？   workplace   \n",
       "2                                      疫情下的募資，新創最該留意的事情     startup   \n",
       "3     【Martech Asia】行銷科技之父 Scott Brinker：去程式化的行銷應用 這...          AI   \n",
       "4                  傳微軟有意以 100 億美元收購 Discord 高價出手背後誘因為何？        game   \n",
       "...                                                 ...         ...   \n",
       "2887           Google 內部戰男女！大刀維護多元方針，執行長開除了發表性別偏見千言書的員工  management   \n",
       "2888                     中共電動禁令就像是「虎門銷煙」——真正的問題，從來都不是鴉片        game   \n",
       "2889        YouTube與Instagram推出「短影片」功能，有機會挑戰TikTok的地位嗎？   marketing   \n",
       "2890                                 用 4 個直白問題，摸清一位 CEO     startup   \n",
       "2891       三大技巧打造更棒的 SurveyCake 問卷 獲得更精準的問卷回覆，打造更好的填答體驗   workplace   \n",
       "\n",
       "                                        Title Tokenized  \n",
       "0     磁鐵 改叫 我 沒 吸引力 了 坐臥 兩 用床 改叫 我 爸媽 會 打呼 Ikea 妙 玩 SEO  \n",
       "1                    硬 塞 書 摘 就業 的 終結 你 知道 就業 機會 正在 減少 嗎  \n",
       "2                              疫情 下 的 募資 新創 最 該 留意 的 事情  \n",
       "3     Martech Asia 行銷 科技 之 父 Scott Brinker 去 程式化 的 行...  \n",
       "4        傳 微軟 有意 以 100 億 美元 收購 Discord 高價 出手 背 後 誘 因為 何  \n",
       "...                                                 ...  \n",
       "2887  Google 內部 戰 男女 大刀 維護 多元 方針 執行 長開 除了 發表 性別 偏 見 ...  \n",
       "2888             中共 電動 禁令 就 像是 虎門 銷煙 真正 的 問題 從來 都 不是 鴉片  \n",
       "2889  YouTube 與 Instagram 推出 短 影片 功能 有 機會 挑戰 TikTok ...  \n",
       "2890                                用 個 直白 問題 摸清 一位 CEO  \n",
       "2891  三大 技巧 打造 更 棒 的 SurveyCake 問卷 獲 得 更 精準 的 問卷 回覆 ...  \n",
       "\n",
       "[2892 rows x 3 columns]"
      ]
     },
     "execution_count": 8,
     "metadata": {},
     "output_type": "execute_result"
    }
   ],
   "source": [
    "df"
   ]
  },
  {
   "cell_type": "code",
   "execution_count": 43,
   "metadata": {},
   "outputs": [],
   "source": [
    "total_words = ' '.join(df['Title Tokenized'])\n",
    "vectorterms = list(set(total_words))\n",
    "# print(vectorterms)"
   ]
  },
  {
   "cell_type": "code",
   "execution_count": 10,
   "metadata": {},
   "outputs": [],
   "source": [
    "import numpy as np\n",
    "def vectorize(words):\n",
    "    self_main_list = [0] * len(vectorterms)\n",
    "    for term in words:\n",
    "        if term in vectorterms:  # 因為測試資料集當中的詞不一定有出現在訓練資料集中\n",
    "            idx = vectorterms.index(term)\n",
    "            self_main_list[idx] += 1\n",
    "    return np.array(self_main_list)\n",
    "\n",
    "# Tokenized後的文章標題做向量化\n",
    "X = np.concatenate(df['Title Tokenized'].apply(vectorize).values).reshape(-1, len(vectorterms))\n"
   ]
  },
  {
   "cell_type": "code",
   "execution_count": 11,
   "metadata": {},
   "outputs": [
    {
     "name": "stdout",
     "output_type": "stream",
     "text": [
      "['AI' 'game' 'management' 'marketing' 'startup' 'workplace']\n"
     ]
    }
   ],
   "source": [
    "y = df['label']\n",
    "print(np.unique(y))\n",
    "y_label = np.array(y)"
   ]
  },
  {
   "cell_type": "code",
   "execution_count": 14,
   "metadata": {},
   "outputs": [],
   "source": [
    "from sklearn.model_selection import train_test_split\n",
    "X_train, X_test, Y_train, Y_test = train_test_split(X, y_label, test_size=0.3, random_state=42)\n",
    "# print(X_train.shape)\n",
    "# print(Y_train.shape)\n",
    "# print(X_test.shape)\n",
    "# print(Y_test.shape)"
   ]
  },
  {
   "cell_type": "code",
   "execution_count": 28,
   "metadata": {},
   "outputs": [],
   "source": [
    "from sklearn.neighbors import KNeighborsClassifier\n",
    "from sklearn import metrics\n",
    "from sklearn.metrics import classification_report\n",
    "import matplotlib.pyplot as plt\n",
    "import seaborn as sns"
   ]
  },
  {
   "cell_type": "markdown",
   "metadata": {},
   "source": [
    "##  Building Models"
   ]
  },
  {
   "cell_type": "code",
   "execution_count": 39,
   "metadata": {},
   "outputs": [
    {
     "name": "stdout",
     "output_type": "stream",
     "text": [
      "              precision    recall  f1-score   support\n",
      "\n",
      "          AI       0.87      0.85      0.86       167\n",
      "        game       0.86      0.81      0.83       173\n",
      "  management       0.82      0.79      0.81       110\n",
      "   marketing       0.73      0.79      0.76       177\n",
      "     startup       0.75      0.82      0.78       146\n",
      "   workplace       0.92      0.83      0.87        95\n",
      "\n",
      "    accuracy                           0.81       868\n",
      "   macro avg       0.83      0.81      0.82       868\n",
      "weighted avg       0.82      0.81      0.82       868\n",
      "\n",
      "[[142   1   0  15   8   1]\n",
      " [  8 140   1  18   5   1]\n",
      " [  4   1  87   6  12   0]\n",
      " [  4  14   5 140  11   3]\n",
      " [  3   5   8   9 119   2]\n",
      " [  2   2   5   3   4  79]]\n"
     ]
    },
    {
     "data": {
      "text/plain": [
       "<matplotlib.axes._subplots.AxesSubplot at 0x2378991cd48>"
      ]
     },
     "execution_count": 39,
     "metadata": {},
     "output_type": "execute_result"
    },
    {
     "data": {
      "image/png": "[encoded data removed]",
      "text/plain": [
       "<Figure size 432x288 with 1 Axes>"
      ]
     },
     "metadata": {
      "needs_background": "light"
     },
     "output_type": "display_data"
    }
   ],
   "source": [
    "from sklearn.tree import DecisionTreeClassifier\n",
    "clf = DecisionTreeClassifier()\n",
    "clf.fit(X_train, Y_train)\n",
    "y_pred = clf.predict(X_test)\n",
    "confusion_matrix = metrics.confusion_matrix(Y_test, y_pred)\n",
    "print(classification_report(Y_test, y_pred))\n",
    "print(confusion_matrix)\n",
    "sns.heatmap(confusion_matrix, square= True, annot=True, cbar=False, fmt ='.0f')"
   ]
  },
  {
   "cell_type": "code",
   "execution_count": 40,
   "metadata": {},
   "outputs": [
    {
     "name": "stdout",
     "output_type": "stream",
     "text": [
      "              precision    recall  f1-score   support\n",
      "\n",
      "          AI       0.88      0.95      0.91       167\n",
      "        game       0.90      0.87      0.88       173\n",
      "  management       0.83      0.78      0.81       110\n",
      "   marketing       0.87      0.87      0.87       177\n",
      "     startup       0.83      0.88      0.85       146\n",
      "   workplace       0.94      0.84      0.89        95\n",
      "\n",
      "    accuracy                           0.87       868\n",
      "   macro avg       0.88      0.87      0.87       868\n",
      "weighted avg       0.87      0.87      0.87       868\n",
      "\n",
      "[[159   0   1   4   3   0]\n",
      " [  8 150   0  11   3   1]\n",
      " [  4   1  86   3  13   3]\n",
      " [  5   9   4 154   4   1]\n",
      " [  4   4   8   1 129   0]\n",
      " [  1   2   4   4   4  80]]\n"
     ]
    },
    {
     "data": {
      "text/plain": [
       "<matplotlib.axes._subplots.AxesSubplot at 0x237899b6ac8>"
      ]
     },
     "execution_count": 40,
     "metadata": {},
     "output_type": "execute_result"
    },
    {
     "data": {
      "image/png": "[encoded data removed]",
      "text/plain": [
       "<Figure size 432x288 with 1 Axes>"
      ]
     },
     "metadata": {
      "needs_background": "light"
     },
     "output_type": "display_data"
    }
   ],
   "source": [
    "from sklearn.ensemble import RandomForestClassifier\n",
    "clf = RandomForestClassifier(n_estimators = 100)\n",
    "clf.fit(X_train, Y_train)\n",
    "y_pred = clf.predict(X_test)\n",
    "confusion_matrix = metrics.confusion_matrix(Y_test, y_pred)\n",
    "print(classification_report(Y_test, y_pred))\n",
    "print(confusion_matrix)\n",
    "sns.heatmap(confusion_matrix, square= True, annot=True, cbar=False, fmt ='.0f')"
   ]
  },
  {
   "cell_type": "code",
   "execution_count": 41,
   "metadata": {},
   "outputs": [
    {
     "name": "stdout",
     "output_type": "stream",
     "text": [
      "              precision    recall  f1-score   support\n",
      "\n",
      "          AI       0.85      0.56      0.67       167\n",
      "        game       0.72      0.51      0.60       173\n",
      "  management       0.50      0.51      0.50       110\n",
      "   marketing       0.61      0.62      0.61       177\n",
      "     startup       0.44      0.55      0.49       146\n",
      "   workplace       0.34      0.59      0.43        95\n",
      "\n",
      "    accuracy                           0.56       868\n",
      "   macro avg       0.58      0.56      0.55       868\n",
      "weighted avg       0.61      0.56      0.57       868\n",
      "\n",
      "[[ 93   6   9  12  21  26]\n",
      " [  5  89  11  20  20  28]\n",
      " [  4   7  56   7  24  12]\n",
      " [  3  15   8 109  19  23]\n",
      " [  3   6  19  18  80  20]\n",
      " [  1   0   9  12  17  56]]\n"
     ]
    },
    {
     "data": {
      "text/plain": [
       "<matplotlib.axes._subplots.AxesSubplot at 0x237899b9688>"
      ]
     },
     "execution_count": 41,
     "metadata": {},
     "output_type": "execute_result"
    },
    {
     "data": {
      "image/png": "[encoded data removed]",
      "text/plain": [
       "<Figure size 432x288 with 1 Axes>"
      ]
     },
     "metadata": {
      "needs_background": "light"
     },
     "output_type": "display_data"
    }
   ],
   "source": [
    "clf = KNeighborsClassifier(n_neighbors=100)\n",
    "clf.fit(X_train, Y_train)\n",
    "y_pred = clf.predict(X_test)\n",
    "confusion_matrix = metrics.confusion_matrix(Y_test, y_pred)\n",
    "print(classification_report(Y_test, y_pred))\n",
    "print(confusion_matrix)\n",
    "sns.heatmap(confusion_matrix, square= True, annot=True, cbar=False, fmt ='.0f')"
   ]
  },
  {
   "cell_type": "code",
   "execution_count": 19,
   "metadata": {},
   "outputs": [],
   "source": [
    "from sklearn.decomposition import PCA\n",
    "pca = PCA(n_components=25)\n",
    "newX = pca.fit_transform(X)"
   ]
  },
  {
   "cell_type": "code",
   "execution_count": 20,
   "metadata": {},
   "outputs": [
    {
     "name": "stdout",
     "output_type": "stream",
     "text": [
      "(2892, 25)\n"
     ]
    }
   ],
   "source": [
    "print(newX.shape)"
   ]
  },
  {
   "cell_type": "code",
   "execution_count": 21,
   "metadata": {},
   "outputs": [
    {
     "name": "stdout",
     "output_type": "stream",
     "text": [
      "(2024, 25)\n"
     ]
    }
   ],
   "source": [
    "X_train_pca, X_test_pca, Y_train_pca, Y_test_pca = train_test_split(newX, y_label, test_size=0.3, random_state=42)\n",
    "print(X_train_pca.shape)"
   ]
  },
  {
   "cell_type": "code",
   "execution_count": 42,
   "metadata": {},
   "outputs": [
    {
     "name": "stdout",
     "output_type": "stream",
     "text": [
      "              precision    recall  f1-score   support\n",
      "\n",
      "          AI       0.75      0.74      0.74       167\n",
      "        game       0.59      0.67      0.63       173\n",
      "  management       0.55      0.21      0.30       110\n",
      "   marketing       0.61      0.60      0.60       177\n",
      "     startup       0.63      0.59      0.61       146\n",
      "   workplace       0.35      0.58      0.44        95\n",
      "\n",
      "    accuracy                           0.59       868\n",
      "   macro avg       0.58      0.56      0.56       868\n",
      "weighted avg       0.60      0.59      0.58       868\n",
      "\n",
      "[[124  14   1   7   6  15]\n",
      " [ 16 116   4  16   6  15]\n",
      " [  6  16  23  16  21  28]\n",
      " [  9  26   2 106  10  24]\n",
      " [  8  13  10  11  86  18]\n",
      " [  3  10   2  18   7  55]]\n"
     ]
    },
    {
     "data": {
      "text/plain": [
       "<matplotlib.axes._subplots.AxesSubplot at 0x23789b0a808>"
      ]
     },
     "execution_count": 42,
     "metadata": {},
     "output_type": "execute_result"
    },
    {
     "data": {
      "image/png": "[encoded data removed]",
      "text/plain": [
       "<Figure size 432x288 with 1 Axes>"
      ]
     },
     "metadata": {
      "needs_background": "light"
     },
     "output_type": "display_data"
    }
   ],
   "source": [
    "clf = KNeighborsClassifier(n_neighbors=100)\n",
    "clf.fit(X_train_pca, Y_train_pca)\n",
    "y_pred_pca = clf.predict(X_test_pca)\n",
    "confusion_matrix = metrics.confusion_matrix(Y_test_pca, y_pred_pca)\n",
    "print(classification_report(Y_test_pca, y_pred_pca))\n",
    "print(confusion_matrix)\n",
    "sns.heatmap(confusion_matrix, square= True, annot=True, cbar=False, fmt ='.0f')"
   ]
  },
  {
   "cell_type": "markdown",
   "metadata": {},
   "source": [
    "## Save model & dictionary"
   ]
  },
  {
   "cell_type": "code",
   "execution_count": 44,
   "metadata": {},
   "outputs": [
    {
     "name": "stdout",
     "output_type": "stream",
     "text": [
      "              precision    recall  f1-score   support\n",
      "\n",
      "          AI       0.92      0.95      0.93       167\n",
      "        game       0.89      0.88      0.89       173\n",
      "  management       0.86      0.75      0.80       110\n",
      "   marketing       0.84      0.87      0.85       177\n",
      "     startup       0.81      0.88      0.84       146\n",
      "   workplace       0.91      0.84      0.87        95\n",
      "\n",
      "    accuracy                           0.87       868\n",
      "   macro avg       0.87      0.86      0.87       868\n",
      "weighted avg       0.87      0.87      0.87       868\n",
      "\n"
     ]
    }
   ],
   "source": [
    "from sklearn.ensemble import RandomForestClassifier\n",
    "clf = RandomForestClassifier(n_estimators = 100)\n",
    "clf.fit(X_train, Y_train)\n",
    "y_pred = clf.predict(X_test)\n",
    "# confusion_matrix = metrics.confusion_matrix(Y_test, y_pred)\n",
    "print(classification_report(Y_test, y_pred))"
   ]
  },
  {
   "cell_type": "code",
   "execution_count": 46,
   "metadata": {},
   "outputs": [
    {
     "data": {
      "text/plain": [
       "['RF_model']"
      ]
     },
     "execution_count": 46,
     "metadata": {},
     "output_type": "execute_result"
    }
   ],
   "source": [
    "import joblib\n",
    "joblib.dump(clf, 'RF_model')"
   ]
  },
  {
   "cell_type": "code",
   "execution_count": 47,
   "metadata": {},
   "outputs": [
    {
     "name": "stdout",
     "output_type": "stream",
     "text": [
      "              precision    recall  f1-score   support\n",
      "\n",
      "          AI       0.92      0.95      0.93       167\n",
      "        game       0.89      0.88      0.89       173\n",
      "  management       0.86      0.75      0.80       110\n",
      "   marketing       0.84      0.87      0.85       177\n",
      "     startup       0.81      0.88      0.84       146\n",
      "   workplace       0.91      0.84      0.87        95\n",
      "\n",
      "    accuracy                           0.87       868\n",
      "   macro avg       0.87      0.86      0.87       868\n",
      "weighted avg       0.87      0.87      0.87       868\n",
      "\n"
     ]
    }
   ],
   "source": [
    "# test the checkpoint\n",
    "loaded_model = joblib.load('RF_model')\n",
    "y_pred = loaded_model.predict(X_test)\n",
    "print(classification_report(Y_test, y_pred))"
   ]
  },
  {
   "cell_type": "code",
   "execution_count": 55,
   "metadata": {},
   "outputs": [],
   "source": [
    "import csv\n",
    "# with open('dictionary.csv', 'w', newline='') as file:\n",
    "# #     writer = csv.writer(file, quoting=csv.QUOTE_ALL,delimiter=';')\n",
    "#     writer.writerows(vectorterms)\n",
    "with open('dictionary.csv', 'w',encoding=\"utf-8\") as f:\n",
    "      \n",
    "    # using csv.writer method from CSV package\n",
    "    write = csv.writer(f)\n",
    "      \n",
    "    write.writerow(vectorterms)"
   ]
  },
  {
   "cell_type": "code",
   "execution_count": null,
   "metadata": {},
   "outputs": [],
   "source": []
  }
 ],
 "metadata": {
  "kernelspec": {
   "display_name": "Python 3",
   "language": "python",
   "name": "python3"
  }
 },
 "nbformat": 4,
 "nbformat_minor": 2
}
